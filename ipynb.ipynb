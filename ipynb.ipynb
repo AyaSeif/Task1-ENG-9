{
 "cells": [
  {
   "cell_type": "markdown",
   "metadata": {
    "id": "hqMfI_GTZGKu"
   },
   "source": [
    "# **Question 1 - Visualizations**"
   ]
  },
  {
   "cell_type": "markdown",
   "metadata": {
    "id": "WcwlncEBZP7e"
   },
   "source": [
    "## **Part I**\n",
    "\n",
    "Using the following dataset: https://raw.githubusercontent.com/mwaskom/seaborn-data/master/penguins.csv choose the most convenient graph to show the following, each question in **one** graph, using the library of your choice:\n",
    "\n"
   ]
  },
  {
   "cell_type": "markdown",
   "metadata": {
    "id": "1q2RVHZ5aIfy"
   },
   "source": [
    "**1. The relationship between the penguin's bill length and bill depth for each species.**"
   ]
  },
  {
   "cell_type": "code",
   "execution_count": 13,
   "metadata": {
    "id": "azZU9OyBY5ZJ"
   },
   "outputs": [
    {
     "data": {
      "text/plain": [
       "<matplotlib.axes._subplots.AxesSubplot at 0x1ae95601640>"
      ]
     },
     "execution_count": 13,
     "metadata": {},
     "output_type": "execute_result"
    },
    {
     "data": {
      "image/png": "[encoded data removed]",
      "text/plain": [
       "<Figure size 432x288 with 1 Axes>"
      ]
     },
     "metadata": {
      "needs_background": "light"
     },
     "output_type": "display_data"
    }
   ],
   "source": [
    "import pandas as pd\n",
    "import seaborn as sns\n",
    "import matplotlib.pyplot as plt\n",
    "\n",
    "penguin = pd.read_csv('https://raw.githubusercontent.com/mwaskom/seaborn-data/master/penguins.csv ')\n",
    "\n",
    "penguin.head()\n",
    "\n",
    "\n",
    "\n",
    "sns.scatterplot(x=penguin['bill_length_mm'], y=penguin['bill_depth_mm'])\n"
   ]
  },
  {
   "cell_type": "markdown",
   "metadata": {
    "id": "W8d6wUapaO-5"
   },
   "source": [
    " **What do you observe from the graph?**"
   ]
  },
  {
   "cell_type": "markdown",
   "metadata": {
    "id": "9zqHbgzOaTxp"
   },
   "source": [
    "Your answer here:\n",
    "\n",
    "*   \n",
    "\n",
    "\n",
    "\n"
   ]
  },
  {
   "cell_type": "markdown",
   "metadata": {
    "id": "PZB_ewrVaIbM"
   },
   "source": [
    "**Why did you choose this type of graph?**"
   ]
  },
  {
   "cell_type": "markdown",
   "metadata": {
    "id": "NJPwpssOaIdi"
   },
   "source": [
    "Your answer here:\n",
    "\n",
    "*   "
   ]
  },
  {
   "cell_type": "markdown",
   "metadata": {
    "id": "0-ME01JJaIhr"
   },
   "source": [
    "**2. The mean BMI of female and male penguins.** \n"
   ]
  },
  {
   "cell_type": "code",
   "execution_count": 12,
   "metadata": {
    "id": "QmthkvfXbJcy"
   },
   "outputs": [],
   "source": [
    "x= penguin.groupby('sex')['body_mass_g'].mean()"
   ]
  },
  {
   "cell_type": "markdown",
   "metadata": {
    "id": "_YwdUqN5ZGIn"
   },
   "source": [
    " **What do you observe from the graph?**"
   ]
  },
  {
   "cell_type": "markdown",
   "metadata": {
    "id": "-T4xwknXZGNW"
   },
   "source": [
    "Your answer here:\n",
    "\n",
    "*   \n",
    "\n",
    "\n",
    "\n"
   ]
  },
  {
   "cell_type": "markdown",
   "metadata": {
    "id": "OLtBP0dGbTuI"
   },
   "source": [
    "**Why did you choose this type of graph?**"
   ]
  },
  {
   "cell_type": "markdown",
   "metadata": {
    "id": "DPW1MoRvbTxA"
   },
   "source": [
    "Your answer here:\n",
    "\n",
    "*   \n",
    "\n",
    "\n",
    "\n"
   ]
  },
  {
   "cell_type": "markdown",
   "metadata": {
    "id": "DKAQxmVQcT4f"
   },
   "source": [
    "## **Part II**\n",
    "\n",
    "Observe the following dataset: https://raw.githubusercontent.com/marwagaser/Quiz1-CSEN1095/main/CSVs/salesMinimized%20-%20salesMinimized.csv?token=AGGO3KVVFYGJFHNYW7N726S7WPBBY and use data tidying techniques to make the dataset tider.\n",
    "\n",
    "\n"
   ]
  },
  {
   "cell_type": "code",
   "execution_count": 6,
   "metadata": {
    "id": "g7BkTPpZcyaw"
   },
   "outputs": [
    {
     "data": {
      "text/html": [
       "<div>\n",
       "<style scoped>\n",
       "    .dataframe tbody tr th:only-of-type {\n",
       "        vertical-align: middle;\n",
       "    }\n",
       "\n",
       "    .dataframe tbody tr th {\n",
       "        vertical-align: top;\n",
       "    }\n",
       "\n",
       "    .dataframe thead th {\n",
       "        text-align: right;\n",
       "    }\n",
       "</style>\n",
       "<table border=\"1\" class=\"dataframe\">\n",
       "  <thead>\n",
       "    <tr style=\"text-align: right;\">\n",
       "      <th></th>\n",
       "      <th>Unnamed: 0</th>\n",
       "      <th>id</th>\n",
       "      <th>item_id</th>\n",
       "      <th>dept_id</th>\n",
       "      <th>cat_id</th>\n",
       "      <th>store_id</th>\n",
       "      <th>state_id</th>\n",
       "      <th>d_1</th>\n",
       "      <th>d_2</th>\n",
       "      <th>d_3</th>\n",
       "      <th>...</th>\n",
       "      <th>d_61</th>\n",
       "      <th>d_62</th>\n",
       "      <th>d_63</th>\n",
       "      <th>d_64</th>\n",
       "      <th>d_65</th>\n",
       "      <th>d_66</th>\n",
       "      <th>d_67</th>\n",
       "      <th>d_68</th>\n",
       "      <th>d_69</th>\n",
       "      <th>d_70</th>\n",
       "    </tr>\n",
       "  </thead>\n",
       "  <tbody>\n",
       "    <tr>\n",
       "      <th>0</th>\n",
       "      <td>0</td>\n",
       "      <td>HOBBIES_1_001_CA_1_validation</td>\n",
       "      <td>HOBBIES_1_001</td>\n",
       "      <td>HOBBIES_1</td>\n",
       "      <td>HOBBIES</td>\n",
       "      <td>CA_1</td>\n",
       "      <td>CA</td>\n",
       "      <td>0</td>\n",
       "      <td>0</td>\n",
       "      <td>0</td>\n",
       "      <td>...</td>\n",
       "      <td>0</td>\n",
       "      <td>0</td>\n",
       "      <td>0</td>\n",
       "      <td>0</td>\n",
       "      <td>0</td>\n",
       "      <td>0</td>\n",
       "      <td>0</td>\n",
       "      <td>0</td>\n",
       "      <td>0</td>\n",
       "      <td>0</td>\n",
       "    </tr>\n",
       "    <tr>\n",
       "      <th>1</th>\n",
       "      <td>1</td>\n",
       "      <td>HOBBIES_1_002_CA_1_validation</td>\n",
       "      <td>HOBBIES_1_002</td>\n",
       "      <td>HOBBIES_1</td>\n",
       "      <td>HOBBIES</td>\n",
       "      <td>CA_1</td>\n",
       "      <td>CA</td>\n",
       "      <td>0</td>\n",
       "      <td>0</td>\n",
       "      <td>0</td>\n",
       "      <td>...</td>\n",
       "      <td>0</td>\n",
       "      <td>0</td>\n",
       "      <td>0</td>\n",
       "      <td>0</td>\n",
       "      <td>0</td>\n",
       "      <td>0</td>\n",
       "      <td>0</td>\n",
       "      <td>0</td>\n",
       "      <td>0</td>\n",
       "      <td>0</td>\n",
       "    </tr>\n",
       "    <tr>\n",
       "      <th>2</th>\n",
       "      <td>2</td>\n",
       "      <td>HOBBIES_1_003_CA_1_validation</td>\n",
       "      <td>HOBBIES_1_003</td>\n",
       "      <td>HOBBIES_1</td>\n",
       "      <td>HOBBIES</td>\n",
       "      <td>CA_1</td>\n",
       "      <td>CA</td>\n",
       "      <td>0</td>\n",
       "      <td>0</td>\n",
       "      <td>0</td>\n",
       "      <td>...</td>\n",
       "      <td>0</td>\n",
       "      <td>0</td>\n",
       "      <td>0</td>\n",
       "      <td>0</td>\n",
       "      <td>0</td>\n",
       "      <td>0</td>\n",
       "      <td>0</td>\n",
       "      <td>0</td>\n",
       "      <td>0</td>\n",
       "      <td>0</td>\n",
       "    </tr>\n",
       "    <tr>\n",
       "      <th>3</th>\n",
       "      <td>3</td>\n",
       "      <td>HOBBIES_1_004_CA_1_validation</td>\n",
       "      <td>HOBBIES_1_004</td>\n",
       "      <td>HOBBIES_1</td>\n",
       "      <td>HOBBIES</td>\n",
       "      <td>CA_1</td>\n",
       "      <td>CA</td>\n",
       "      <td>0</td>\n",
       "      <td>0</td>\n",
       "      <td>0</td>\n",
       "      <td>...</td>\n",
       "      <td>1</td>\n",
       "      <td>0</td>\n",
       "      <td>0</td>\n",
       "      <td>0</td>\n",
       "      <td>0</td>\n",
       "      <td>0</td>\n",
       "      <td>1</td>\n",
       "      <td>0</td>\n",
       "      <td>0</td>\n",
       "      <td>1</td>\n",
       "    </tr>\n",
       "    <tr>\n",
       "      <th>4</th>\n",
       "      <td>4</td>\n",
       "      <td>HOBBIES_1_005_CA_1_validation</td>\n",
       "      <td>HOBBIES_1_005</td>\n",
       "      <td>HOBBIES_1</td>\n",
       "      <td>HOBBIES</td>\n",
       "      <td>CA_1</td>\n",
       "      <td>CA</td>\n",
       "      <td>0</td>\n",
       "      <td>0</td>\n",
       "      <td>0</td>\n",
       "      <td>...</td>\n",
       "      <td>0</td>\n",
       "      <td>0</td>\n",
       "      <td>0</td>\n",
       "      <td>0</td>\n",
       "      <td>0</td>\n",
       "      <td>0</td>\n",
       "      <td>0</td>\n",
       "      <td>0</td>\n",
       "      <td>0</td>\n",
       "      <td>0</td>\n",
       "    </tr>\n",
       "    <tr>\n",
       "      <th>...</th>\n",
       "      <td>...</td>\n",
       "      <td>...</td>\n",
       "      <td>...</td>\n",
       "      <td>...</td>\n",
       "      <td>...</td>\n",
       "      <td>...</td>\n",
       "      <td>...</td>\n",
       "      <td>...</td>\n",
       "      <td>...</td>\n",
       "      <td>...</td>\n",
       "      <td>...</td>\n",
       "      <td>...</td>\n",
       "      <td>...</td>\n",
       "      <td>...</td>\n",
       "      <td>...</td>\n",
       "      <td>...</td>\n",
       "      <td>...</td>\n",
       "      <td>...</td>\n",
       "      <td>...</td>\n",
       "      <td>...</td>\n",
       "      <td>...</td>\n",
       "    </tr>\n",
       "    <tr>\n",
       "      <th>1995</th>\n",
       "      <td>1995</td>\n",
       "      <td>FOODS_2_169_CA_1_validation</td>\n",
       "      <td>FOODS_2_169</td>\n",
       "      <td>FOODS_2</td>\n",
       "      <td>FOODS</td>\n",
       "      <td>CA_1</td>\n",
       "      <td>CA</td>\n",
       "      <td>0</td>\n",
       "      <td>0</td>\n",
       "      <td>0</td>\n",
       "      <td>...</td>\n",
       "      <td>0</td>\n",
       "      <td>0</td>\n",
       "      <td>0</td>\n",
       "      <td>0</td>\n",
       "      <td>0</td>\n",
       "      <td>0</td>\n",
       "      <td>0</td>\n",
       "      <td>0</td>\n",
       "      <td>0</td>\n",
       "      <td>0</td>\n",
       "    </tr>\n",
       "    <tr>\n",
       "      <th>1996</th>\n",
       "      <td>1996</td>\n",
       "      <td>FOODS_2_170_CA_1_validation</td>\n",
       "      <td>FOODS_2_170</td>\n",
       "      <td>FOODS_2</td>\n",
       "      <td>FOODS</td>\n",
       "      <td>CA_1</td>\n",
       "      <td>CA</td>\n",
       "      <td>0</td>\n",
       "      <td>0</td>\n",
       "      <td>0</td>\n",
       "      <td>...</td>\n",
       "      <td>0</td>\n",
       "      <td>0</td>\n",
       "      <td>0</td>\n",
       "      <td>0</td>\n",
       "      <td>0</td>\n",
       "      <td>0</td>\n",
       "      <td>0</td>\n",
       "      <td>0</td>\n",
       "      <td>0</td>\n",
       "      <td>0</td>\n",
       "    </tr>\n",
       "    <tr>\n",
       "      <th>1997</th>\n",
       "      <td>1997</td>\n",
       "      <td>FOODS_2_171_CA_1_validation</td>\n",
       "      <td>FOODS_2_171</td>\n",
       "      <td>FOODS_2</td>\n",
       "      <td>FOODS</td>\n",
       "      <td>CA_1</td>\n",
       "      <td>CA</td>\n",
       "      <td>4</td>\n",
       "      <td>5</td>\n",
       "      <td>1</td>\n",
       "      <td>...</td>\n",
       "      <td>1</td>\n",
       "      <td>0</td>\n",
       "      <td>1</td>\n",
       "      <td>1</td>\n",
       "      <td>0</td>\n",
       "      <td>2</td>\n",
       "      <td>2</td>\n",
       "      <td>1</td>\n",
       "      <td>1</td>\n",
       "      <td>6</td>\n",
       "    </tr>\n",
       "    <tr>\n",
       "      <th>1998</th>\n",
       "      <td>1998</td>\n",
       "      <td>FOODS_2_172_CA_1_validation</td>\n",
       "      <td>FOODS_2_172</td>\n",
       "      <td>FOODS_2</td>\n",
       "      <td>FOODS</td>\n",
       "      <td>CA_1</td>\n",
       "      <td>CA</td>\n",
       "      <td>0</td>\n",
       "      <td>0</td>\n",
       "      <td>0</td>\n",
       "      <td>...</td>\n",
       "      <td>0</td>\n",
       "      <td>0</td>\n",
       "      <td>0</td>\n",
       "      <td>0</td>\n",
       "      <td>0</td>\n",
       "      <td>0</td>\n",
       "      <td>0</td>\n",
       "      <td>0</td>\n",
       "      <td>0</td>\n",
       "      <td>0</td>\n",
       "    </tr>\n",
       "    <tr>\n",
       "      <th>1999</th>\n",
       "      <td>1999</td>\n",
       "      <td>FOODS_2_173_CA_1_validation</td>\n",
       "      <td>FOODS_2_173</td>\n",
       "      <td>FOODS_2</td>\n",
       "      <td>FOODS</td>\n",
       "      <td>CA_1</td>\n",
       "      <td>CA</td>\n",
       "      <td>1</td>\n",
       "      <td>0</td>\n",
       "      <td>0</td>\n",
       "      <td>...</td>\n",
       "      <td>0</td>\n",
       "      <td>1</td>\n",
       "      <td>0</td>\n",
       "      <td>1</td>\n",
       "      <td>1</td>\n",
       "      <td>0</td>\n",
       "      <td>0</td>\n",
       "      <td>1</td>\n",
       "      <td>0</td>\n",
       "      <td>1</td>\n",
       "    </tr>\n",
       "  </tbody>\n",
       "</table>\n",
       "<p>2000 rows × 77 columns</p>\n",
       "</div>"
      ],
      "text/plain": [
       "      Unnamed: 0                             id        item_id    dept_id  \\\n",
       "0              0  HOBBIES_1_001_CA_1_validation  HOBBIES_1_001  HOBBIES_1   \n",
       "1              1  HOBBIES_1_002_CA_1_validation  HOBBIES_1_002  HOBBIES_1   \n",
       "2              2  HOBBIES_1_003_CA_1_validation  HOBBIES_1_003  HOBBIES_1   \n",
       "3              3  HOBBIES_1_004_CA_1_validation  HOBBIES_1_004  HOBBIES_1   \n",
       "4              4  HOBBIES_1_005_CA_1_validation  HOBBIES_1_005  HOBBIES_1   \n",
       "...          ...                            ...            ...        ...   \n",
       "1995        1995    FOODS_2_169_CA_1_validation    FOODS_2_169    FOODS_2   \n",
       "1996        1996    FOODS_2_170_CA_1_validation    FOODS_2_170    FOODS_2   \n",
       "1997        1997    FOODS_2_171_CA_1_validation    FOODS_2_171    FOODS_2   \n",
       "1998        1998    FOODS_2_172_CA_1_validation    FOODS_2_172    FOODS_2   \n",
       "1999        1999    FOODS_2_173_CA_1_validation    FOODS_2_173    FOODS_2   \n",
       "\n",
       "       cat_id store_id state_id  d_1  d_2  d_3  ...  d_61  d_62  d_63  d_64  \\\n",
       "0     HOBBIES     CA_1       CA    0    0    0  ...     0     0     0     0   \n",
       "1     HOBBIES     CA_1       CA    0    0    0  ...     0     0     0     0   \n",
       "2     HOBBIES     CA_1       CA    0    0    0  ...     0     0     0     0   \n",
       "3     HOBBIES     CA_1       CA    0    0    0  ...     1     0     0     0   \n",
       "4     HOBBIES     CA_1       CA    0    0    0  ...     0     0     0     0   \n",
       "...       ...      ...      ...  ...  ...  ...  ...   ...   ...   ...   ...   \n",
       "1995    FOODS     CA_1       CA    0    0    0  ...     0     0     0     0   \n",
       "1996    FOODS     CA_1       CA    0    0    0  ...     0     0     0     0   \n",
       "1997    FOODS     CA_1       CA    4    5    1  ...     1     0     1     1   \n",
       "1998    FOODS     CA_1       CA    0    0    0  ...     0     0     0     0   \n",
       "1999    FOODS     CA_1       CA    1    0    0  ...     0     1     0     1   \n",
       "\n",
       "      d_65  d_66  d_67  d_68  d_69  d_70  \n",
       "0        0     0     0     0     0     0  \n",
       "1        0     0     0     0     0     0  \n",
       "2        0     0     0     0     0     0  \n",
       "3        0     0     1     0     0     1  \n",
       "4        0     0     0     0     0     0  \n",
       "...    ...   ...   ...   ...   ...   ...  \n",
       "1995     0     0     0     0     0     0  \n",
       "1996     0     0     0     0     0     0  \n",
       "1997     0     2     2     1     1     6  \n",
       "1998     0     0     0     0     0     0  \n",
       "1999     1     0     0     1     0     1  \n",
       "\n",
       "[2000 rows x 77 columns]"
      ]
     },
     "execution_count": 6,
     "metadata": {},
     "output_type": "execute_result"
    }
   ],
   "source": [
    "import pandas as pd\n",
    "\n",
    "x =  pd.read_csv('https://raw.githubusercontent.com/marwagaser/Quiz1-CSEN1095/main/CSVs/salesMinimized%20-%20salesMinimized.csv?token=AGGO3KVVFYGJFHNYW7N726S7WPBBY')\n",
    "x.iloc[0:]\n"
   ]
  },
  {
   "cell_type": "code",
   "execution_count": 8,
   "metadata": {
    "id": "Ch0WRlJscvXl"
   },
   "outputs": [
    {
     "data": {
      "text/html": [
       "<div>\n",
       "<style scoped>\n",
       "    .dataframe tbody tr th:only-of-type {\n",
       "        vertical-align: middle;\n",
       "    }\n",
       "\n",
       "    .dataframe tbody tr th {\n",
       "        vertical-align: top;\n",
       "    }\n",
       "\n",
       "    .dataframe thead th {\n",
       "        text-align: right;\n",
       "    }\n",
       "</style>\n",
       "<table border=\"1\" class=\"dataframe\">\n",
       "  <thead>\n",
       "    <tr style=\"text-align: right;\">\n",
       "      <th></th>\n",
       "      <th>variable</th>\n",
       "      <th>value</th>\n",
       "    </tr>\n",
       "  </thead>\n",
       "  <tbody>\n",
       "    <tr>\n",
       "      <th>0</th>\n",
       "      <td>variable</td>\n",
       "      <td>Unnamed: 0</td>\n",
       "    </tr>\n",
       "    <tr>\n",
       "      <th>1</th>\n",
       "      <td>variable</td>\n",
       "      <td>Unnamed: 0</td>\n",
       "    </tr>\n",
       "    <tr>\n",
       "      <th>2</th>\n",
       "      <td>variable</td>\n",
       "      <td>Unnamed: 0</td>\n",
       "    </tr>\n",
       "    <tr>\n",
       "      <th>3</th>\n",
       "      <td>variable</td>\n",
       "      <td>Unnamed: 0</td>\n",
       "    </tr>\n",
       "    <tr>\n",
       "      <th>4</th>\n",
       "      <td>variable</td>\n",
       "      <td>Unnamed: 0</td>\n",
       "    </tr>\n",
       "    <tr>\n",
       "      <th>...</th>\n",
       "      <td>...</td>\n",
       "      <td>...</td>\n",
       "    </tr>\n",
       "    <tr>\n",
       "      <th>307995</th>\n",
       "      <td>value</td>\n",
       "      <td>0</td>\n",
       "    </tr>\n",
       "    <tr>\n",
       "      <th>307996</th>\n",
       "      <td>value</td>\n",
       "      <td>0</td>\n",
       "    </tr>\n",
       "    <tr>\n",
       "      <th>307997</th>\n",
       "      <td>value</td>\n",
       "      <td>6</td>\n",
       "    </tr>\n",
       "    <tr>\n",
       "      <th>307998</th>\n",
       "      <td>value</td>\n",
       "      <td>0</td>\n",
       "    </tr>\n",
       "    <tr>\n",
       "      <th>307999</th>\n",
       "      <td>value</td>\n",
       "      <td>1</td>\n",
       "    </tr>\n",
       "  </tbody>\n",
       "</table>\n",
       "<p>308000 rows × 2 columns</p>\n",
       "</div>"
      ],
      "text/plain": [
       "        variable       value\n",
       "0       variable  Unnamed: 0\n",
       "1       variable  Unnamed: 0\n",
       "2       variable  Unnamed: 0\n",
       "3       variable  Unnamed: 0\n",
       "4       variable  Unnamed: 0\n",
       "...          ...         ...\n",
       "307995     value           0\n",
       "307996     value           0\n",
       "307997     value           6\n",
       "307998     value           0\n",
       "307999     value           1\n",
       "\n",
       "[308000 rows x 2 columns]"
      ]
     },
     "execution_count": 8,
     "metadata": {},
     "output_type": "execute_result"
    }
   ],
   "source": [
    "x =pd.melt(x)\n",
    "x.iloc[0:]"
   ]
  },
  {
   "cell_type": "code",
   "execution_count": null,
   "metadata": {},
   "outputs": [],
   "source": []
  }
 ],
 "metadata": {
  "colab": {
   "name": "CSEN1095_Quiz 1.ipynb",
   "provenance": []
  },
  "kernelspec": {
   "display_name": "Python 3",
   "language": "python",
   "name": "python3"
  },
  "language_info": {
   "codemirror_mode": {
    "name": "ipython",
    "version": 3
   },
   "file_extension": ".py",
   "mimetype": "text/x-python",
   "name": "python",
   "nbconvert_exporter": "python",
   "pygments_lexer": "ipython3",
   "version": "3.8.3"
  }
 },
 "nbformat": 4,
 "nbformat_minor": 1
}
